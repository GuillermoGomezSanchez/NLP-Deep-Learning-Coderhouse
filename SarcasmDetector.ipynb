{
 "cells": [
  {
   "cell_type": "code",
   "execution_count": 1,
   "metadata": {
    "colab": {
     "base_uri": "https://localhost:8080/"
    },
    "executionInfo": {
     "elapsed": 202,
     "status": "ok",
     "timestamp": 1741057928814,
     "user": {
      "displayName": "memo teacher",
      "userId": "07240468935678651141"
     },
     "user_tz": 360
    },
    "id": "dt-nij1kmojZ",
    "outputId": "33e9159d-faec-4631-82a3-a1d304f3c51c"
   },
   "outputs": [
    {
     "name": "stdout",
     "output_type": "stream",
     "text": [
      "CPU times: total: 2.8 s\n",
      "Wall time: 9.94 s\n"
     ]
    },
    {
     "name": "stderr",
     "output_type": "stream",
     "text": [
      "[nltk_data] Downloading package punkt to\n",
      "[nltk_data]     C:\\Users\\memo_\\AppData\\Roaming\\nltk_data...\n",
      "[nltk_data]   Package punkt is already up-to-date!\n"
     ]
    },
    {
     "data": {
      "text/plain": [
       "True"
      ]
     },
     "execution_count": 1,
     "metadata": {},
     "output_type": "execute_result"
    }
   ],
   "source": [
    "%%time\n",
    "import gzip\n",
    "import json\n",
    "import string\n",
    "\n",
    "import nltk # imports the natural language toolkit\n",
    "import pandas as pd\n",
    "import plotly\n",
    "\n",
    "from sklearn.model_selection import train_test_split\n",
    "\n",
    "import tensorflow as tf\n",
    "from tensorflow.keras.models import Sequential\n",
    "from tensorflow.keras.layers import LSTM, Dense, Embedding, Dropout\n",
    "from tensorflow.keras.callbacks import EarlyStopping\n",
    "\n",
    "from tensorflow.keras.preprocessing.text import Tokenizer\n",
    "from tensorflow.keras.preprocessing.sequence import pad_sequences\n",
    "\n",
    "from sklearn.metrics import confusion_matrix, classification_report\n",
    "import seaborn as sns\n",
    "import matplotlib.pyplot as plt\n",
    "nltk.download('punkt')\n"
   ]
  },
  {
   "cell_type": "code",
   "execution_count": 2,
   "metadata": {},
   "outputs": [],
   "source": [
    "import gensim.downloader as api\n",
    "\n",
    "# Descargar los embeddings preentrenados\n",
    "word_vectors = api.load(\"glove-wiki-gigaword-300\")"
   ]
  },
  {
   "cell_type": "code",
   "execution_count": 3,
   "metadata": {
    "executionInfo": {
     "elapsed": 12,
     "status": "ok",
     "timestamp": 1741057930849,
     "user": {
      "displayName": "memo teacher",
      "userId": "07240468935678651141"
     },
     "user_tz": 360
    },
    "id": "NfJZ38Pqrok0"
   },
   "outputs": [],
   "source": [
    "from tensorflow.keras.optimizers import Adam\n",
    "import numpy as np\n",
    "import os\n",
    "from sklearn.utils import shuffle\n",
    "from tensorflow.keras.layers import Bidirectional"
   ]
  },
  {
   "cell_type": "code",
   "execution_count": 4,
   "metadata": {},
   "outputs": [],
   "source": [
    "from tensorflow.keras.callbacks import ReduceLROnPlateau\n",
    "from tensorflow.keras.callbacks import EarlyStopping\n",
    "from tensorflow.keras.layers import Conv1D, MaxPooling1D\n",
    "from tensorflow.keras.regularizers import l2 "
   ]
  },
  {
   "cell_type": "code",
   "execution_count": 5,
   "metadata": {
    "colab": {
     "base_uri": "https://localhost:8080/"
    },
    "executionInfo": {
     "elapsed": 2130,
     "status": "ok",
     "timestamp": 1741057933860,
     "user": {
      "displayName": "memo teacher",
      "userId": "07240468935678651141"
     },
     "user_tz": 360
    },
    "id": "nxxGKAGJVfIM",
    "outputId": "96b27f50-75ea-4b54-9dbd-8e3bd81cbe5e"
   },
   "outputs": [
    {
     "name": "stdout",
     "output_type": "stream",
     "text": [
      "Requirement already satisfied: contractions in c:\\users\\memo_\\anaconda3\\lib\\site-packages (0.1.73)\n",
      "Requirement already satisfied: textsearch>=0.0.21 in c:\\users\\memo_\\anaconda3\\lib\\site-packages (from contractions) (0.0.24)\n",
      "Requirement already satisfied: anyascii in c:\\users\\memo_\\anaconda3\\lib\\site-packages (from textsearch>=0.0.21->contractions) (0.3.2)\n",
      "Requirement already satisfied: pyahocorasick in c:\\users\\memo_\\anaconda3\\lib\\site-packages (from textsearch>=0.0.21->contractions) (2.1.0)\n"
     ]
    }
   ],
   "source": [
    "!pip install contractions"
   ]
  },
  {
   "cell_type": "code",
   "execution_count": 6,
   "metadata": {
    "colab": {
     "base_uri": "https://localhost:8080/"
    },
    "executionInfo": {
     "elapsed": 22,
     "status": "ok",
     "timestamp": 1741057933881,
     "user": {
      "displayName": "memo teacher",
      "userId": "07240468935678651141"
     },
     "user_tz": 360
    },
    "id": "Ajz-LAsRYrX8",
    "outputId": "e2a81d65-331a-42b7-b2ac-345292db9155"
   },
   "outputs": [
    {
     "name": "stderr",
     "output_type": "stream",
     "text": [
      "[nltk_data] Downloading package punkt_tab to\n",
      "[nltk_data]     C:\\Users\\memo_\\AppData\\Roaming\\nltk_data...\n",
      "[nltk_data]   Package punkt_tab is already up-to-date!\n"
     ]
    }
   ],
   "source": [
    "nltk.download('punkt_tab')\n",
    "import contractions"
   ]
  },
  {
   "cell_type": "code",
   "execution_count": 7,
   "metadata": {
    "colab": {
     "base_uri": "https://localhost:8080/"
    },
    "executionInfo": {
     "elapsed": 26985,
     "status": "ok",
     "timestamp": 1741057964133,
     "user": {
      "displayName": "memo teacher",
      "userId": "07240468935678651141"
     },
     "user_tz": 360
    },
    "id": "AFDnSRQzI61N",
    "outputId": "8784fc26-afe2-4c5b-8a63-ec68a8e8e3c9"
   },
   "outputs": [
    {
     "name": "stdout",
     "output_type": "stream",
     "text": [
      "Requirement already satisfied: spacy in c:\\users\\memo_\\anaconda3\\lib\\site-packages (3.8.4)\n",
      "Requirement already satisfied: spacy-legacy<3.1.0,>=3.0.11 in c:\\users\\memo_\\anaconda3\\lib\\site-packages (from spacy) (3.0.12)\n",
      "Requirement already satisfied: spacy-loggers<2.0.0,>=1.0.0 in c:\\users\\memo_\\anaconda3\\lib\\site-packages (from spacy) (1.0.5)\n",
      "Requirement already satisfied: murmurhash<1.1.0,>=0.28.0 in c:\\users\\memo_\\anaconda3\\lib\\site-packages (from spacy) (1.0.12)\n",
      "Requirement already satisfied: cymem<2.1.0,>=2.0.2 in c:\\users\\memo_\\anaconda3\\lib\\site-packages (from spacy) (2.0.11)\n",
      "Requirement already satisfied: preshed<3.1.0,>=3.0.2 in c:\\users\\memo_\\anaconda3\\lib\\site-packages (from spacy) (3.0.9)\n",
      "Requirement already satisfied: thinc<8.4.0,>=8.3.4 in c:\\users\\memo_\\anaconda3\\lib\\site-packages (from spacy) (8.3.4)\n",
      "Requirement already satisfied: wasabi<1.2.0,>=0.9.1 in c:\\users\\memo_\\anaconda3\\lib\\site-packages (from spacy) (1.1.3)\n",
      "Requirement already satisfied: srsly<3.0.0,>=2.4.3 in c:\\users\\memo_\\anaconda3\\lib\\site-packages (from spacy) (2.5.1)\n",
      "Requirement already satisfied: catalogue<2.1.0,>=2.0.6 in c:\\users\\memo_\\anaconda3\\lib\\site-packages (from spacy) (2.0.10)\n",
      "Requirement already satisfied: weasel<0.5.0,>=0.1.0 in c:\\users\\memo_\\anaconda3\\lib\\site-packages (from spacy) (0.4.1)\n",
      "Requirement already satisfied: typer<1.0.0,>=0.3.0 in c:\\users\\memo_\\anaconda3\\lib\\site-packages (from spacy) (0.9.0)\n",
      "Requirement already satisfied: tqdm<5.0.0,>=4.38.0 in c:\\users\\memo_\\anaconda3\\lib\\site-packages (from spacy) (4.66.5)\n",
      "Requirement already satisfied: numpy>=1.19.0 in c:\\users\\memo_\\anaconda3\\lib\\site-packages (from spacy) (1.26.4)\n",
      "Requirement already satisfied: requests<3.0.0,>=2.13.0 in c:\\users\\memo_\\anaconda3\\lib\\site-packages (from spacy) (2.32.3)\n",
      "Requirement already satisfied: pydantic!=1.8,!=1.8.1,<3.0.0,>=1.7.4 in c:\\users\\memo_\\anaconda3\\lib\\site-packages (from spacy) (2.8.2)\n",
      "Requirement already satisfied: jinja2 in c:\\users\\memo_\\anaconda3\\lib\\site-packages (from spacy) (3.1.4)\n",
      "Requirement already satisfied: setuptools in c:\\users\\memo_\\anaconda3\\lib\\site-packages (from spacy) (75.1.0)\n",
      "Requirement already satisfied: packaging>=20.0 in c:\\users\\memo_\\appdata\\roaming\\python\\python312\\site-packages (from spacy) (23.2)\n",
      "Requirement already satisfied: langcodes<4.0.0,>=3.2.0 in c:\\users\\memo_\\anaconda3\\lib\\site-packages (from spacy) (3.5.0)\n",
      "Requirement already satisfied: language-data>=1.2 in c:\\users\\memo_\\anaconda3\\lib\\site-packages (from langcodes<4.0.0,>=3.2.0->spacy) (1.3.0)\n",
      "Requirement already satisfied: annotated-types>=0.4.0 in c:\\users\\memo_\\anaconda3\\lib\\site-packages (from pydantic!=1.8,!=1.8.1,<3.0.0,>=1.7.4->spacy) (0.6.0)\n",
      "Requirement already satisfied: pydantic-core==2.20.1 in c:\\users\\memo_\\anaconda3\\lib\\site-packages (from pydantic!=1.8,!=1.8.1,<3.0.0,>=1.7.4->spacy) (2.20.1)\n",
      "Requirement already satisfied: typing-extensions>=4.6.1 in c:\\users\\memo_\\anaconda3\\lib\\site-packages (from pydantic!=1.8,!=1.8.1,<3.0.0,>=1.7.4->spacy) (4.11.0)\n",
      "Requirement already satisfied: charset-normalizer<4,>=2 in c:\\users\\memo_\\anaconda3\\lib\\site-packages (from requests<3.0.0,>=2.13.0->spacy) (3.3.2)\n",
      "Requirement already satisfied: idna<4,>=2.5 in c:\\users\\memo_\\anaconda3\\lib\\site-packages (from requests<3.0.0,>=2.13.0->spacy) (3.7)\n",
      "Requirement already satisfied: urllib3<3,>=1.21.1 in c:\\users\\memo_\\anaconda3\\lib\\site-packages (from requests<3.0.0,>=2.13.0->spacy) (2.2.3)\n",
      "Requirement already satisfied: certifi>=2017.4.17 in c:\\users\\memo_\\anaconda3\\lib\\site-packages (from requests<3.0.0,>=2.13.0->spacy) (2024.12.14)\n",
      "Requirement already satisfied: blis<1.3.0,>=1.2.0 in c:\\users\\memo_\\anaconda3\\lib\\site-packages (from thinc<8.4.0,>=8.3.4->spacy) (1.2.0)\n",
      "Requirement already satisfied: confection<1.0.0,>=0.0.1 in c:\\users\\memo_\\anaconda3\\lib\\site-packages (from thinc<8.4.0,>=8.3.4->spacy) (0.1.5)\n",
      "Requirement already satisfied: colorama in c:\\users\\memo_\\appdata\\roaming\\python\\python312\\site-packages (from tqdm<5.0.0,>=4.38.0->spacy) (0.4.6)\n",
      "Requirement already satisfied: click<9.0.0,>=7.1.1 in c:\\users\\memo_\\anaconda3\\lib\\site-packages (from typer<1.0.0,>=0.3.0->spacy) (8.1.7)\n",
      "Requirement already satisfied: cloudpathlib<1.0.0,>=0.7.0 in c:\\users\\memo_\\anaconda3\\lib\\site-packages (from weasel<0.5.0,>=0.1.0->spacy) (0.21.0)\n",
      "Requirement already satisfied: smart-open<8.0.0,>=5.2.1 in c:\\users\\memo_\\anaconda3\\lib\\site-packages (from weasel<0.5.0,>=0.1.0->spacy) (5.2.1)\n",
      "Requirement already satisfied: MarkupSafe>=2.0 in c:\\users\\memo_\\anaconda3\\lib\\site-packages (from jinja2->spacy) (2.1.3)\n",
      "Requirement already satisfied: marisa-trie>=1.1.0 in c:\\users\\memo_\\anaconda3\\lib\\site-packages (from language-data>=1.2->langcodes<4.0.0,>=3.2.0->spacy) (1.2.1)\n",
      "Requirement already satisfied: emoji in c:\\users\\memo_\\anaconda3\\lib\\site-packages (2.14.1)\n",
      "Collecting en-core-web-sm==3.8.0\n",
      "  Downloading https://github.com/explosion/spacy-models/releases/download/en_core_web_sm-3.8.0/en_core_web_sm-3.8.0-py3-none-any.whl (12.8 MB)\n",
      "     ---------------------------------------- 0.0/12.8 MB ? eta -:--:--\n",
      "      --------------------------------------- 0.3/12.8 MB ? eta -:--:--\n",
      "     - -------------------------------------- 0.5/12.8 MB 1.3 MB/s eta 0:00:10\n",
      "     - -------------------------------------- 0.5/12.8 MB 1.3 MB/s eta 0:00:10\n",
      "     -- ------------------------------------- 0.8/12.8 MB 1.2 MB/s eta 0:00:11\n",
      "     --- ------------------------------------ 1.0/12.8 MB 1.2 MB/s eta 0:00:11\n",
      "     --- ------------------------------------ 1.0/12.8 MB 1.2 MB/s eta 0:00:11\n",
      "     --- ------------------------------------ 1.0/12.8 MB 1.2 MB/s eta 0:00:11\n",
      "     --- ------------------------------------ 1.0/12.8 MB 1.2 MB/s eta 0:00:11\n",
      "     --- ------------------------------------ 1.0/12.8 MB 1.2 MB/s eta 0:00:11\n",
      "     --- ------------------------------------ 1.0/12.8 MB 1.2 MB/s eta 0:00:11\n",
      "     --- ------------------------------------ 1.0/12.8 MB 1.2 MB/s eta 0:00:11\n",
      "     --- ------------------------------------ 1.0/12.8 MB 1.2 MB/s eta 0:00:11\n",
      "     --- ------------------------------------ 1.0/12.8 MB 1.2 MB/s eta 0:00:11\n",
      "     --- ------------------------------------ 1.0/12.8 MB 1.2 MB/s eta 0:00:11\n",
      "     --- ----------------------------------- 1.3/12.8 MB 374.9 kB/s eta 0:00:31\n",
      "     ---- ---------------------------------- 1.6/12.8 MB 432.4 kB/s eta 0:00:26\n",
      "     ----- --------------------------------- 1.8/12.8 MB 479.4 kB/s eta 0:00:23\n",
      "     ----- --------------------------------- 1.8/12.8 MB 479.4 kB/s eta 0:00:23\n",
      "     ------ -------------------------------- 2.1/12.8 MB 521.9 kB/s eta 0:00:21\n",
      "     ------- ------------------------------- 2.4/12.8 MB 559.2 kB/s eta 0:00:19\n",
      "     ------- ------------------------------- 2.6/12.8 MB 596.8 kB/s eta 0:00:18\n",
      "     -------- ------------------------------ 2.9/12.8 MB 630.8 kB/s eta 0:00:16\n",
      "     --------- ----------------------------- 3.1/12.8 MB 642.9 kB/s eta 0:00:16\n",
      "     --------- ----------------------------- 3.1/12.8 MB 642.9 kB/s eta 0:00:16\n",
      "     ---------- ---------------------------- 3.4/12.8 MB 637.0 kB/s eta 0:00:15\n",
      "     ---------- ---------------------------- 3.4/12.8 MB 637.0 kB/s eta 0:00:15\n",
      "     ----------- --------------------------- 3.7/12.8 MB 635.8 kB/s eta 0:00:15\n",
      "     ----------- --------------------------- 3.7/12.8 MB 635.8 kB/s eta 0:00:15\n",
      "     ----------- --------------------------- 3.7/12.8 MB 635.8 kB/s eta 0:00:15\n",
      "     ----------- --------------------------- 3.9/12.8 MB 633.1 kB/s eta 0:00:15\n",
      "     ----------- --------------------------- 3.9/12.8 MB 633.1 kB/s eta 0:00:15\n",
      "     ------------ -------------------------- 4.2/12.8 MB 618.3 kB/s eta 0:00:14\n",
      "     ------------ -------------------------- 4.2/12.8 MB 618.3 kB/s eta 0:00:14\n",
      "     ------------ -------------------------- 4.2/12.8 MB 618.3 kB/s eta 0:00:14\n",
      "     ------------- ------------------------- 4.5/12.8 MB 612.8 kB/s eta 0:00:14\n",
      "     ------------- ------------------------- 4.5/12.8 MB 612.8 kB/s eta 0:00:14\n",
      "     -------------- ------------------------ 4.7/12.8 MB 610.7 kB/s eta 0:00:14\n",
      "     -------------- ------------------------ 4.7/12.8 MB 610.7 kB/s eta 0:00:14\n",
      "     --------------- ----------------------- 5.0/12.8 MB 612.6 kB/s eta 0:00:13\n",
      "     --------------- ----------------------- 5.0/12.8 MB 612.6 kB/s eta 0:00:13\n",
      "     --------------- ----------------------- 5.2/12.8 MB 614.1 kB/s eta 0:00:13\n",
      "     --------------- ----------------------- 5.2/12.8 MB 614.1 kB/s eta 0:00:13\n",
      "     ---------------- ---------------------- 5.5/12.8 MB 614.6 kB/s eta 0:00:12\n",
      "     ----------------- --------------------- 5.8/12.8 MB 619.2 kB/s eta 0:00:12\n",
      "     ----------------- --------------------- 5.8/12.8 MB 619.2 kB/s eta 0:00:12\n",
      "     ------------------ -------------------- 6.0/12.8 MB 619.3 kB/s eta 0:00:11\n",
      "     ------------------ -------------------- 6.0/12.8 MB 619.3 kB/s eta 0:00:11\n",
      "     ------------------ -------------------- 6.0/12.8 MB 619.3 kB/s eta 0:00:11\n",
      "     ------------------ -------------------- 6.0/12.8 MB 619.3 kB/s eta 0:00:11\n",
      "     ------------------- ------------------- 6.3/12.8 MB 599.2 kB/s eta 0:00:11\n",
      "     ------------------- ------------------- 6.3/12.8 MB 599.2 kB/s eta 0:00:11\n",
      "     ------------------- ------------------- 6.3/12.8 MB 599.2 kB/s eta 0:00:11\n",
      "     ------------------- ------------------- 6.6/12.8 MB 591.2 kB/s eta 0:00:11\n",
      "     ------------------- ------------------- 6.6/12.8 MB 591.2 kB/s eta 0:00:11\n",
      "     ------------------- ------------------- 6.6/12.8 MB 591.2 kB/s eta 0:00:11\n",
      "     -------------------- ------------------ 6.8/12.8 MB 584.2 kB/s eta 0:00:11\n",
      "     -------------------- ------------------ 6.8/12.8 MB 584.2 kB/s eta 0:00:11\n",
      "     --------------------- ----------------- 7.1/12.8 MB 585.5 kB/s eta 0:00:10\n",
      "     --------------------- ----------------- 7.1/12.8 MB 585.5 kB/s eta 0:00:10\n",
      "     --------------------- ----------------- 7.1/12.8 MB 585.5 kB/s eta 0:00:10\n",
      "     ---------------------- ---------------- 7.3/12.8 MB 577.0 kB/s eta 0:00:10\n",
      "     ---------------------- ---------------- 7.3/12.8 MB 577.0 kB/s eta 0:00:10\n",
      "     ---------------------- ---------------- 7.3/12.8 MB 577.0 kB/s eta 0:00:10\n",
      "     ----------------------- --------------- 7.6/12.8 MB 562.6 kB/s eta 0:00:10\n",
      "     ----------------------- --------------- 7.6/12.8 MB 562.6 kB/s eta 0:00:10\n",
      "     ----------------------- --------------- 7.6/12.8 MB 562.6 kB/s eta 0:00:10\n",
      "     ----------------------- --------------- 7.6/12.8 MB 562.6 kB/s eta 0:00:10\n",
      "     ----------------------- --------------- 7.9/12.8 MB 549.1 kB/s eta 0:00:09\n",
      "     ----------------------- --------------- 7.9/12.8 MB 549.1 kB/s eta 0:00:09\n",
      "     ----------------------- --------------- 7.9/12.8 MB 549.1 kB/s eta 0:00:09\n",
      "     ------------------------ -------------- 8.1/12.8 MB 544.7 kB/s eta 0:00:09\n",
      "     ------------------------ -------------- 8.1/12.8 MB 544.7 kB/s eta 0:00:09\n",
      "     ------------------------- ------------- 8.4/12.8 MB 544.6 kB/s eta 0:00:09\n",
      "     ------------------------- ------------- 8.4/12.8 MB 544.6 kB/s eta 0:00:09\n",
      "     -------------------------- ------------ 8.7/12.8 MB 549.0 kB/s eta 0:00:08\n",
      "     -------------------------- ------------ 8.7/12.8 MB 549.0 kB/s eta 0:00:08\n",
      "     --------------------------- ----------- 8.9/12.8 MB 553.6 kB/s eta 0:00:08\n",
      "     --------------------------- ----------- 9.2/12.8 MB 558.7 kB/s eta 0:00:07\n",
      "     --------------------------- ----------- 9.2/12.8 MB 558.7 kB/s eta 0:00:07\n",
      "     ---------------------------- ---------- 9.4/12.8 MB 564.6 kB/s eta 0:00:06\n",
      "     ----------------------------- --------- 9.7/12.8 MB 569.3 kB/s eta 0:00:06\n",
      "     ----------------------------- --------- 9.7/12.8 MB 569.3 kB/s eta 0:00:06\n",
      "     ----------------------------- --------- 9.7/12.8 MB 569.3 kB/s eta 0:00:06\n",
      "     ----------------------------- -------- 10.0/12.8 MB 568.4 kB/s eta 0:00:06\n",
      "     ------------------------------ ------- 10.2/12.8 MB 571.2 kB/s eta 0:00:05\n",
      "     ------------------------------ ------- 10.2/12.8 MB 571.2 kB/s eta 0:00:05\n",
      "     ------------------------------- ------ 10.5/12.8 MB 575.5 kB/s eta 0:00:05\n",
      "     ------------------------------- ------ 10.5/12.8 MB 575.5 kB/s eta 0:00:05\n",
      "     ------------------------------- ------ 10.7/12.8 MB 579.5 kB/s eta 0:00:04\n",
      "     -------------------------------- ----- 11.0/12.8 MB 582.4 kB/s eta 0:00:04\n",
      "     -------------------------------- ----- 11.0/12.8 MB 582.4 kB/s eta 0:00:04\n",
      "     --------------------------------- ---- 11.3/12.8 MB 584.3 kB/s eta 0:00:03\n",
      "     --------------------------------- ---- 11.3/12.8 MB 584.3 kB/s eta 0:00:03\n",
      "     ---------------------------------- --- 11.5/12.8 MB 585.1 kB/s eta 0:00:03\n",
      "     ---------------------------------- --- 11.5/12.8 MB 585.1 kB/s eta 0:00:03\n",
      "     ----------------------------------- -- 11.8/12.8 MB 587.3 kB/s eta 0:00:02\n",
      "     ----------------------------------- -- 11.8/12.8 MB 587.3 kB/s eta 0:00:02\n",
      "     ----------------------------------- -- 12.1/12.8 MB 588.9 kB/s eta 0:00:02\n",
      "     ----------------------------------- -- 12.1/12.8 MB 588.9 kB/s eta 0:00:02\n",
      "     ------------------------------------ - 12.3/12.8 MB 590.5 kB/s eta 0:00:01\n",
      "     ------------------------------------ - 12.3/12.8 MB 590.5 kB/s eta 0:00:01\n",
      "     -------------------------------------  12.6/12.8 MB 592.0 kB/s eta 0:00:01\n",
      "     -------------------------------------  12.6/12.8 MB 592.0 kB/s eta 0:00:01\n",
      "     -------------------------------------- 12.8/12.8 MB 591.2 kB/s eta 0:00:00\n",
      "\u001b[38;5;2m✔ Download and installation successful\u001b[0m\n",
      "You can now load the package via spacy.load('en_core_web_sm')\n"
     ]
    }
   ],
   "source": [
    "!pip install spacy\n",
    "!pip install emoji\n",
    "!python -m spacy download en_core_web_sm"
   ]
  },
  {
   "cell_type": "code",
   "execution_count": 8,
   "metadata": {
    "colab": {
     "base_uri": "https://localhost:8080/"
    },
    "executionInfo": {
     "elapsed": 847,
     "status": "ok",
     "timestamp": 1741057964981,
     "user": {
      "displayName": "memo teacher",
      "userId": "07240468935678651141"
     },
     "user_tz": 360
    },
    "id": "kLk3L4D3KIcb",
    "outputId": "61c9ba2d-dfb7-45c4-b99e-4670e70330c9"
   },
   "outputs": [
    {
     "name": "stderr",
     "output_type": "stream",
     "text": [
      "[nltk_data] Downloading package stopwords to\n",
      "[nltk_data]     C:\\Users\\memo_\\AppData\\Roaming\\nltk_data...\n",
      "[nltk_data]   Package stopwords is already up-to-date!\n"
     ]
    }
   ],
   "source": [
    "import re\n",
    "import spacy\n",
    "import emoji\n",
    "from nltk.corpus import stopwords\n",
    "from nltk.tokenize import word_tokenize\n",
    "\n",
    "# Descargar stopwords si es la primera vez\n",
    "nltk.download('stopwords')\n",
    "\n",
    "# Cargar modelo de spaCy en inglés\n",
    "nlp = spacy.load(\"en_core_web_sm\")\n",
    "\n",
    "# Obtener lista de stopwords en inglés\n",
    "stop_words = set(stopwords.words('english'))"
   ]
  },
  {
   "cell_type": "code",
   "execution_count": 92,
   "metadata": {
    "colab": {
     "background_save": true
    },
    "id": "qK6xXKU6ncvM"
   },
   "outputs": [
    {
     "ename": "ModuleNotFoundError",
     "evalue": "No module named 'google.colab'",
     "output_type": "error",
     "traceback": [
      "\u001b[1;31m---------------------------------------------------------------------------\u001b[0m",
      "\u001b[1;31mModuleNotFoundError\u001b[0m                       Traceback (most recent call last)",
      "Cell \u001b[1;32mIn[92], line 1\u001b[0m\n\u001b[1;32m----> 1\u001b[0m \u001b[38;5;28;01mfrom\u001b[39;00m \u001b[38;5;21;01mgoogle\u001b[39;00m\u001b[38;5;21;01m.\u001b[39;00m\u001b[38;5;21;01mcolab\u001b[39;00m \u001b[38;5;28;01mimport\u001b[39;00m drive\n\u001b[0;32m      2\u001b[0m \u001b[38;5;28;01mimport\u001b[39;00m \u001b[38;5;21;01mos\u001b[39;00m\n\u001b[0;32m      3\u001b[0m drive\u001b[38;5;241m.\u001b[39mmount(\u001b[38;5;124m'\u001b[39m\u001b[38;5;124m/content/gdrive\u001b[39m\u001b[38;5;124m'\u001b[39m, force_remount\u001b[38;5;241m=\u001b[39m\u001b[38;5;28;01mTrue\u001b[39;00m)\n",
      "\u001b[1;31mModuleNotFoundError\u001b[0m: No module named 'google.colab'"
     ]
    }
   ],
   "source": [
    "from google.colab import drive\n",
    "import os\n",
    "drive.mount('/content/gdrive', force_remount=True)\n",
    "# Establecer ruta de acceso en dr\n",
    "import os\n",
    "print(os.getcwd())\n",
    "os.chdir(\"/content/gdrive/My Drive\")"
   ]
  },
  {
   "cell_type": "code",
   "execution_count": 10,
   "metadata": {},
   "outputs": [
    {
     "name": "stdout",
     "output_type": "stream",
     "text": [
      "Current Directory: C:\\Users\\memo_\n"
     ]
    }
   ],
   "source": [
    "print(\"Current Directory:\", os.getcwd())"
   ]
  },
  {
   "cell_type": "code",
   "execution_count": 11,
   "metadata": {
    "id": "xbg_xr4onj4s"
   },
   "outputs": [],
   "source": [
    "\n",
    "#data_twitter_train = pd.read_csv(\"DatasetSarcasmOrig/twitter_train.csv\")\n",
    "#data_twitter_test = pd.read_csv(\"DatasetSarcasmOrig/twitter_test.csv\")\n",
    "#data_head = pd.read_json(\"DatasetSarcasmOrig/Sarcasm_Headlines_Dataset.json\", lines=True)\n",
    "#data_headv2 = pd.read_json(\"DatasetSarcasmOrig/Sarcasm_Headlines_Dataset_v2.json\", lines=True)\n",
    "\n",
    "data_twitter_train = pd.read_csv(\"twitter_train.csv\")\n",
    "data_twitter_test = pd.read_csv(\"twitter_test.csv\")\n",
    "data_head = pd.read_json(\"Sarcasm_Headlines_Dataset.json\", lines=True)\n",
    "data_headv2 = pd.read_json(\"Sarcasm_Headlines_Dataset_v2.json\", lines=True)\n",
    "data_sarcasm_train = pd.read_csv(\"data_test_sarcasm.csv\")\n",
    "data_sarcasm_test = pd.read_csv(\"data_train_sarcasm.csv\", low_memory=False)\n"
   ]
  },
  {
   "cell_type": "code",
   "execution_count": 12,
   "metadata": {
    "id": "pd_yGXNwt22f"
   },
   "outputs": [],
   "source": [
    "data_twitter_train['is_sarcastic'] = ((data_twitter_train['class'] == \"figurative\") | (data_twitter_train['class'] == \"sarcasm\")).astype(int)\n",
    "#data_twitter_train = data_twitter_train.drop(columns=['class'])"
   ]
  },
  {
   "cell_type": "code",
   "execution_count": 13,
   "metadata": {
    "id": "0AGsakJ_xFxl"
   },
   "outputs": [],
   "source": [
    "data_twitter_test['is_sarcastic'] = ((data_twitter_test['class'] == \"figurative\") | (data_twitter_test['class'] == \"sarcasm\")).astype(int)\n",
    "#data_twitter_test = data_twitter_test.drop(columns=['class'])"
   ]
  },
  {
   "cell_type": "code",
   "execution_count": 14,
   "metadata": {
    "id": "LusPtG893ANE"
   },
   "outputs": [],
   "source": [
    "data_twitter_train = data_twitter_train.rename(columns={'tweets': 'text'})\n",
    "data_twitter_test = data_twitter_test.rename(columns={'tweets': 'text'})\n"
   ]
  },
  {
   "cell_type": "code",
   "execution_count": 15,
   "metadata": {
    "id": "8qSfB8SbDwjJ"
   },
   "outputs": [
    {
     "data": {
      "text/html": [
       "<div>\n",
       "<style scoped>\n",
       "    .dataframe tbody tr th:only-of-type {\n",
       "        vertical-align: middle;\n",
       "    }\n",
       "\n",
       "    .dataframe tbody tr th {\n",
       "        vertical-align: top;\n",
       "    }\n",
       "\n",
       "    .dataframe thead th {\n",
       "        text-align: right;\n",
       "    }\n",
       "</style>\n",
       "<table border=\"1\" class=\"dataframe\">\n",
       "  <thead>\n",
       "    <tr style=\"text-align: right;\">\n",
       "      <th></th>\n",
       "      <th>article_link</th>\n",
       "      <th>text</th>\n",
       "      <th>is_sarcastic</th>\n",
       "    </tr>\n",
       "  </thead>\n",
       "  <tbody>\n",
       "    <tr>\n",
       "      <th>0</th>\n",
       "      <td>https://www.huffingtonpost.com/entry/versace-b...</td>\n",
       "      <td>former versace store clerk sues over secret 'b...</td>\n",
       "      <td>0</td>\n",
       "    </tr>\n",
       "    <tr>\n",
       "      <th>1</th>\n",
       "      <td>https://www.huffingtonpost.com/entry/roseanne-...</td>\n",
       "      <td>the 'roseanne' revival catches up to our thorn...</td>\n",
       "      <td>0</td>\n",
       "    </tr>\n",
       "    <tr>\n",
       "      <th>2</th>\n",
       "      <td>https://local.theonion.com/mom-starting-to-fea...</td>\n",
       "      <td>mom starting to fear son's web series closest ...</td>\n",
       "      <td>1</td>\n",
       "    </tr>\n",
       "    <tr>\n",
       "      <th>3</th>\n",
       "      <td>https://politics.theonion.com/boehner-just-wan...</td>\n",
       "      <td>boehner just wants wife to listen, not come up...</td>\n",
       "      <td>1</td>\n",
       "    </tr>\n",
       "    <tr>\n",
       "      <th>4</th>\n",
       "      <td>https://www.huffingtonpost.com/entry/jk-rowlin...</td>\n",
       "      <td>j.k. rowling wishes snape happy birthday in th...</td>\n",
       "      <td>0</td>\n",
       "    </tr>\n",
       "  </tbody>\n",
       "</table>\n",
       "</div>"
      ],
      "text/plain": [
       "                                        article_link  \\\n",
       "0  https://www.huffingtonpost.com/entry/versace-b...   \n",
       "1  https://www.huffingtonpost.com/entry/roseanne-...   \n",
       "2  https://local.theonion.com/mom-starting-to-fea...   \n",
       "3  https://politics.theonion.com/boehner-just-wan...   \n",
       "4  https://www.huffingtonpost.com/entry/jk-rowlin...   \n",
       "\n",
       "                                                text  is_sarcastic  \n",
       "0  former versace store clerk sues over secret 'b...             0  \n",
       "1  the 'roseanne' revival catches up to our thorn...             0  \n",
       "2  mom starting to fear son's web series closest ...             1  \n",
       "3  boehner just wants wife to listen, not come up...             1  \n",
       "4  j.k. rowling wishes snape happy birthday in th...             0  "
      ]
     },
     "execution_count": 15,
     "metadata": {},
     "output_type": "execute_result"
    }
   ],
   "source": [
    "data_head = data_head.rename(columns={'headline': 'text'})\n",
    "data_headv2 = data_headv2.rename(columns={'headline': 'text'})\n",
    "data_head.head()"
   ]
  },
  {
   "cell_type": "code",
   "execution_count": 16,
   "metadata": {},
   "outputs": [],
   "source": [
    "data_sarcasm_test = pd.read_csv(\"data_test_sarcasm.csv\")\n",
    "data_sarcasm_train = pd.read_csv(\"data_train_sarcasm.csv\", low_memory=False)"
   ]
  },
  {
   "cell_type": "code",
   "execution_count": 17,
   "metadata": {},
   "outputs": [],
   "source": [
    "data_sarcasm_train=data_sarcasm_train[data_sarcasm_train[\"label\"] != \"AAAAAAAAAAAAAAAAAAAAAAAAAAAAAAAAAAAAAAAAAAAAAAAAAAAAAAAAAAAAAAAAAAAAAAAAAAAAAAAAAAAAAAAAAAAAAAAAAAAAAAAAAAAAAAAAAAAAAAAAAAAAAAAAAAAAAAAAAAAAAAAAAAAAAAAAAAAAAAAAAAAAAAAAAAAAAAAAAAAAAAAAAAAAAAAAAAAAAAAAAAAAAAAAAAAAAAAAAAAAAAAAAAAAAAAAAAAAAAAAAAAAAAAAAAAAAAAAAAAAAAAAAAAAAAAAAAAAAAAAAAAAAAAAAAAAAAAAAAAAAAAAAAAAAAAAAAAAAAAAAAAAAAAAAAAAAAAAAAAAAAAAAAAAAAAAAAAAAAAAAAAAAAAAAAAAAAAAAAAAAAAAAAAAAAAAAAAAAAAAAAAAAAAAAAAAAAAAAAAAAAAAAAAAAAAAAAAAAAAAAAAAAAAAAAAAAAAAAAAAAAAAAAAAAAAAAAAAAAAAAAAAAAAAAAAAAAAAAAAAAAAAAAAAAAAAAAAAAAAAAAAAAAAAAAAAAAAAAAAAAAAAAAAAAAAAAAAAAAAAAAAAAAAAAAAAAAAAAAAAAAAAAAAAAAAAAAAAAAAAAAAAAAAAAAAAAAAAAAAAAAAAAAAAAAAAAAAAAAAAAAAAAAAAAAAAAAAAAAAAAAAAAAAAAAAAAAAAAAAAAAAAAAAAAAAAAAAAAAAAAAAAAAAAAAAAAAAAAAAAAAAAAAAAAAAAAAAAAAAAAAAAAAAAAAAAAAAAAAAAAAAAAAAAAAAAAAAAAAAAAAAAAAAAAAAAAAAAAAAAAAAAAAAAAAAAAAAAAAAAAAAAAAAAAAAAAAAAAAAAAAAAAAAAAAAAAAAAAAAAAAAAAAAAAAAAAAAAAAAAAAAAAAAAAAAAAAAAAAAAAAAAAAAAAAAAAAAAAAAAAAAAAAAAAAAAAAAAAAAAAAAAAAAAAAAAAAAAAAAAAAAAAAAAAAAAAAAAAAAAAAAAAAAAAAAAAAAAAAAAAAAAAAAAAAAAAAAAAAAAAAAAAAAAAAAAAAAAAAAAAAAAAAAAAAAAAAAAAAAAAAAAAAAAAAAAAAAAAAAAAAAAAAAAAAAAAAAAAAAAAAAAAAAAAAAAAAAAAAAAAAAAAAAAAAAAAAAAAAAAAAAAAAAAAAAAAAAAAAAAAAAAAAAAAAAAAAAAAAAAAAAAAAAAAAAAAAAAAAAAAAAAAAAAAAAAAAAAAAAAAAAAAAAAAAAAAAAAAAAAAAAAAAAAAAAAAAAAAAAAAAAAAAAAAAAAAAAAAAAAAAAAAAAAAAAAAAAAAAAAAAAAAAAAAAAAAAAAAAAAAAAAAAAAAAAAAAAAAAAAAAAAAAAAAAAAAAAAAAAAAAAAAAAAAAAAAAAAAAAAAAAAAAAAAAAAAAAAAAAAAAAAAAAAAAAAAAAAAAAAAAAAAAAAAAAAAAAAAAAAAAAAAAAAAAAAAAAAAAAAAAAAAAAAAAAAAAAAAAAAAAAAAAAAAAAAAAAAAAAAAAAAAAAAAAAAAAAAAAAAAAAAAAAAAAAAAAAAAAAAAAAAAAAAAAAAAAAAAAAAAAAAAAAAAAAAAAAAAAAAAAAAAAAAAAAAAAAAAAAAAAAAAAAAAAAAAAAAAAAAAAAAAAAAAAAAAAAAAAAAAAAAAAAAAAAAAAAAAAAAAAAAAAAAAAAAAAAAAAAAAAAAAAAAAAAAAAAAAAAAAAAAAAAAAAAAAAAAAAAAAAAAAAAAAAAAAAAAAAAAAAAAAAAAAAAAAAAAAAAAAAAAAAAAAAAAAAAAAAAAAAAAAAAAAAAAAAAAAAAAAAAAAAAAAAAAAAAAAAAAAAAAAAAAAAAAAAAAAAAAAAAAAAAAAAAAAAAAAAAAAAAAAAAAAAAAAAAAAAAAAAAAAAAAAAAAAAAAAAAAAAAAAAAAAAAAAAAAAAAAAAAAAAAAAAAAAAAAAAAAAAAAAAAAAAAAAAAAAAAAAAAAAAAAAAAAAAAAAAAAAAAAAAAAAAAAAAAAAAAAAAAAAAAAAAAAAAAAAAAAAAAAAAAAAAAAAAAAAAAAAAAAAAAAAAAAAAAAAAAAAAAAAAAAAAAAAAAAAAAAAAAAAAAAAAAAAAAAAAAAAAAAAAAAAAAAAAAAAAAAAAAAAAAAAAAAAAAAAAAAAAAAAAAAAAAAAAAAAAAAAAAAAAAAAAAAAAAAAAAAAAAAAAAAAAAAAAAAAAAAAAAAAAAAAAAAAAAAAAAAAAAAAAAAAAAAAAAAAAAAAAAAAAAAAAAAAAAAAAAAAAAAAAAAAAAAAAAAAAAAAAAAAAAAAAAAAAAAAAAAAAAAAAAAAAAAAAAAAAAAAAAAAAAAAAAAAAAAAAAAAAAAAAAAAAAAAAAAAAAAAAAAAAAAAAAAAAAAAAAAAAAAAAAAAAAAAAAAAAAAAAAAAAAAAAAAAAAAAAAAAAAAAAAAAAAAAAAAAAAAAAAAAAAAAAAAAAAAAAAAAAAAAAAAAAAAAAAAAAAAAAAAAAAAAAAAAAAAAAAAAAAAAAAAAAAAAAAAAAAAAAAAAAAAAAAAAAAAAAAAAAAAAAAAAAAAAAAAAAAAAAAAAAAAAAAAAAAAAAAAAAAAAAAAAAAAAAAAAAAAAAAAAAAAAAAAAAAAAAAAAAAAAAAAAAAAAAAAAAAAAAAAAAAAAAAAAAAAAAAAAAAAAAAAAAAAAAAAAAAAAAAAAAAAAAAAAAAAAAAAAAAAAAAAAAAAAAAAAAAAAAAAAAAAAAAAAAAAAAAAAAAAAAAAAAAAAAAAAAAAAAAAAAAAAAAAAAAAAAAAAAAAAAAAAAAAAAAAAAAAAAAAAAAAAAAAAAAAAAAAAAAAAAAAAAAAAAAAAAAAAAAAAAAAAAAAAAAAAAAAAAAAAAAAAAAAAAAAAAAAAAAAAAAAAAAAAAAAAAAAAAAAAAAAAAAAAAAAAAAAAAAAAAAAAAAAAAAAAAAAAAAAAAAAAAAAAAAAAAAAAAAAAAAAAAAAAAAAAAAAAAAAAAAAAAAAAAAAAAAAAAAAAAAAAAAAAAAAAAAAAAAAAAAAAAAAAAAAAAAAAAAAAAAAAAAAAAAAAAAAAAAAAAAAAAAAAAAAAAAAAAAAAAAAAAAAAAAAAAAAAAAAAAAAAAAAAAAAAAAAAAAAAAAAAAAAAAAAAAAAAAAAAAAAAAAAAAAAAAAAAAAAAAAAAAAAAAAAAAAAAAAAAAAAAAAAAAAAAAAAAAAAAAAAAAAAAAAAAAAAAAAAAAAAAAAAAAAAAAAAAAAAAAAAAAAAAAAAAAAAAAAAAAAAAAAAAAAAAAAAAAAAAAAAAAAAAAAAAAAAAAAAAAAAAAAAAAAAAAAAAAAAAAAAAAAAAAAAAAAAAAAAAAAAAAAAAAAAAAAAAAAAAAAAAAAAAAAAAAAAAAAAAAAAAAAAAAAAAAAAAAAAAAAAAAAAAAAAAAAAAAAAAAAAAAAAAAAAAAAAAAAAAAAAAAAAAAAAAAAAAAAAAAAAAAAAAAAAAAAAAAAAAAAAAAAAAAAAAAAAAAAAAAAAAAAAAAAAAAAAAAAAAAAAAAAAAAAAAAAAAAAAAAAAAAAAAAAAAAAAAAAAAAAAAAAAAAAAAAAAAAAAAAAAAAAAAAAAAAAAAAAAAAAAAAAAAAAAAAAAAAAAAAAAAAAAAAAAAAAAAAAAAAAAAAAAAAAAAAAAAAAAAAAAAAAAAAAAAAAAAAAAAAAAAAAAAAAAAAAAAAAAAAAAAAAAAAAAAAAAAAAAAAAAAAAAAAAAAAAAAAAAAAAAAAAAAAAAAAAAAAAAAAAAAAAAAAAAAAAAAAAAAAAAAAAAAAAAAAAAAAAAAAAAAAAAAAAAAAAAAAAAAAAAAAAAAAAAAAAAAAAAAAAAAAAAAAAAAAAAAAAAAAAAAAAAAAAAAAAAAAAAAAAAAAAAAAAAAAAAAAAAAAAAAAAAAAAAAAAAAAAAAAAAAAAAAAAAAAAAAAAAAAAAAAAAAAAAAAAAAAAAAAAAAAAAAAAAAAAAAAAAAAAAAAAAAAAAAAAAAAAAAAAAAAAAAAAAAAAAAAAAAAAAAAAAAAAAAAAAAAAAAAAAAAAAAAAAAAAAAAAAAAAAAAAAAAAAAAAAAAAAAAAAAAAAAAAAAAAAAAAAAAAAAAAAAAAAAAAAAAAAAAAAAAAAAAAAAAAAAAAAAAAAAAAAAAAAAAAAAAAAAAAAAAAAAAAAAAAAAAAAAAAAAAAAAAAAAAAAAAAAAAAAAAAAAAAAAAAAAAAAAAAAAAAAAAAAAAAAAAAAAAAAAAAAAAAAAAAAAAAAAAAAAAAAAAAAAAAAAAAAAAAAAAAAAAAAAAAAAAAAAAAAAAAAAAAAAAAAAAAAAAAAAAAAAAAAAAAAAAAAAAAAAAAAAAAAAAAAAAAAAAAAAAAAAAAAAAAAAAAAAAAAAAAAAAAAAAAAAAAAAAAAAAAAAAAAAAAAAAAAAAAAAAAAAAAAAAAAAAAAAAAAAAAAAAAAAAAAAAAAAAAAAAAAAAAAAAAAAAAAAAAAAAAAAAAAAAAAAAAAAAAAAAAAAAAAAAAAAAAAAAAAAAAAAAAAAAAAAAAAAAAAAAAAAAAAAAAAAAAAAAAAAAAAAAAAAAAAAAAAAAAAAAAAAAAAAAAAAAAAAAAAAAAAAAAAAAAAAAAAAAAAAAAAAAAAAAAAAAAAAAAAAAAAAAAAAAAAAAAAAAAAAAAAAAAAAAAAAAAAAAAAAAAAAAAAAAAAAAAAAAAAAAAAAAAAAAAAAAAAAAAAAAAAAAAAAAAAAAAAAAAAAAAAAAAAAAAAAAAAAAAAAAAAAAAAAAAAAAAAAAAAAAAAAAAAAAAAAAAAAAAAAAAAAAAAAAAAAAAAAAAAAAAAAAAAAAAAAAAAAAAAAAAAAAAAAAAAAAAAAAAAAAAAAAAAAAAAAAAAAAAAAAAAAAAAAAAAAAAAAAAAAAAAAAAAAAAAAAAAAAAAAAAAAAAAAAAAAAAAAAAAAAAAAAAAAAAAAAAAAAAAAAAAAAAAAAAAAAAAAAAAAAAAAAAAAAAAAAAAAAAAAAAAAAAAAAAAAAAAAAAAAAAAAAAAAAAAAAAAAAAAAAAAAAAAAAAAAAAAAAAAAAAAAAAAAAAAAAAAAAAAAAAAAAAAAAAAAAAAAAAAAAAAAAAAAAAAAAAAAAAAAAAAAAAAAAAAAAAAAAAAAAAAAAAAAAAAAAAAAAAAAAAAAAAAAAAAAAAAAAAAAAAAAAAAAAAAAAAAAAAAAAAAAAAAAAAAAAAAAAAAAAAAAAAAAAAAAAAAAAAAAAAAAAAAAAAAAAAAAAAAAAAAAAAAAAAAAAAAAAAAAAAAAAAAAAAAAAAAAAAAAAAAAAAAAAAAAAAAAAAAAAAAAAAAAAAAAAAAAAAAAAAAAAAAAAAAAAAAAAAAAAAAAAAAAAAAAAAAAAAAAAAAAAAAAAAAAAAAAAAAAAAAAAAAAAAAAAAAAAAAAAAAAAAAAAAAAAAAAAAAAAAAAAAAAAAAAAAAAAAAAAAAAAAAAAAAAAAAAAAAAAAAAAAAAAAAAAAAAAAAAAAAAAAAAAAAAAAAAAAAAAAAAAAAAAAAAAAAAAAAAAAAAAAAAAAAAAAAAAAAAAAAAAAAAAAAAAAAAAAAAAAAAAAAAAAAAAAAAAAAAAAAAAAAAAAAAAAAAAAAAAAAAAAAAAAAAAAAAAAAAAAAAAAAAAAAAAAAAAAAAAAAAAAAAAAAAAAAAAAAAAAAAAAAAAAAAAAAAAAAAAAAAAAAAAAAAAAAAAAAAAAAAAAAAAAAAAAAAAAAAAAAAAAAAAAAAAAAAAAAAAAAAAAAAAAAAAAAAAAAAAAAAAAAAAAAAAAAAAAAAAAAAAAAAAAAAAAAAAAAAAAAAAAAAAAAAAAAAAAAAAAAAAAAAAAAAAAAAAAAAAAAAAAAAAAAAAAAAAAAAAAAAAAAAAAAAAAAAAAAAAAAAAAAAAAAAAAAAAAAAAAAAAAAAAAAAAAAAAAAAAAAAAAAAAAAAAAAAAAAAAAAAAAAAAAAAAAAAAAAAAAAAAAAAAAAAAAAAAAAAAAAAAAAAAAAAAAAAAAAAAAAAAAAAAAAAAAAAAAAAAAAAAAAAAAAAAAAAAAAAAAAAAAAAAAAAAAAAAAAAAAAAAAAAAAAAAAAAAAAAAAAAAAAAAAAAAAAAAAAAAAAAAAAAAAAAAAAAAAAAAAAAAAAAAAAAAAAAAAAAAAAAAAAAAAAAAAAAAAAAAAAAAAAAAAAAAAAAAAAAAAAAAAAAAAAAAAAAAAAAAAAAAAAAAAAAAAAAAAAAAAAAAAAAAAAAAAAAAAAAAAAAAAAAAAAAAAAAAAAAAAAAAAAAAAAAAAAAAAAAAAAAAAAAAAAAAAAAAAAAAAAAAAAAAAAAAAAAAAAAAAAAAAAAAAAAAAAAAAAAAAAAAAAAAAAAAAAAAAAAAAAAAAAAAAAAAAAAAAAAAAAAAAAAAAAAAAAAAAAAAAAAAAAAAAAAAAAAAAAAAAAAAAAAAAAAAAAAAAAAAAAAAAAAAAAAAAAAAAAAAAAAAAAAAAAAAAAAAAAAAAAAAAAAAAAAAAAAAAAAAAAAAAAAAAAAAAAAAAAAAAAAAAAAAAAAAAAAAAAAAAAAAAAAAAAAAAAAAAAAAAAAAAAAAAAAAAAAAAAAAAAAAAAAAAAAAAAAAAAAAAAAAAAAAAAAAAAAAAAAAAAAAAAAAAAAAAAAAAAAAAAAAAAAAAAAAAAAAAAAAAAAAAAAAAAAAAAAAAAAAAAAAAAAAAAAAAAAAAAAAAAAAAAAAAAAAAAAAAAAAAAAAAAAAAAAAAAAAAAAAAAAAAAAAAAAAAAAAAAAAAAAAAAAAAAAAAAAAAAAAAAAAAAAAAAAAAAAAAAAAAAAAAAAAAAAAAAAAAAAAAAAAAAAAAAAAAAAAAAAAAAAAAAAAAAAAAAAAAAAAAAAAAAAAAAAAAAAAAAAAAAAAAAAAAAAAAAAAAAAAAAAAAAAAAAAAAAAAAAAAAAAAAAAAAAAAAAAAAAAAAAAAAAAAAAAAAAAAAAAAAAAAAAAAAAAAAAAAAAAAAAAAAAAAAAAAAAAAAAAAAAAAAAAAAAAAAAAAAAAAAAAAAAAAAAAAAAAAAAAAAAAAAAAAAAAAAAAAAAAAAAAAAAAAAAAAAAAAAAAAAAAAAAAAAAAAAAAAAAAAAAAAAAAAAAAAAAAAAAAAAAAAAAAAAAAAAAAAAAAAAAAAAAAAAAAAAAAAAAAAAAAAAAAAAAAAAAAAAAAAAAAAAAAAAAAAAAAAAAAAAAAAAAAAAAAAAAAAAAAAAAAAAAAAAAAAAAAAAAAAAAAAAAAAAAAAAAAAAAAAAAAAAAAAAAAAAAAAAAAAAAAAAAAAAAAAAAAAAAAAAAAAAAAAAAAAAAAAAAAAAAAAAAAAAAAAAAAAAAAAAAAAAAAAAAAAAAAAAAAAAAAAAAAAAAAAAAAAAAAAAAAAAAAAAAAAAAAAAAAAAAAAAAAAAAAAAAAAAAAAAAAAAAAAAAAAAAAAAAAAAAAAAAAAAAAAAAAAAAAAAAAAAAAAAAAAAAAAAAAAAAAAAAAAAAAAAAAAAAAAAAAAAAAAAAA\"]"
   ]
  },
  {
   "cell_type": "code",
   "execution_count": 18,
   "metadata": {},
   "outputs": [
    {
     "name": "stdout",
     "output_type": "stream",
     "text": [
      "['0' '1']\n"
     ]
    }
   ],
   "source": [
    "print(data_sarcasm_train[\"label\"].unique())"
   ]
  },
  {
   "cell_type": "code",
   "execution_count": 19,
   "metadata": {},
   "outputs": [
    {
     "name": "stdout",
     "output_type": "stream",
     "text": [
      "       label                                            comment\n",
      "0          0                                         NC and NH.\n",
      "1          0  You do know west teams play against west teams...\n",
      "2          0  They were underdogs earlier today, but since G...\n",
      "3          0  This meme isn't funny none of the \"new york ni...\n",
      "4          0                    I could use one of those tools.\n",
      "...      ...                                                ...\n",
      "949995     1  oh, how I loved making boot disks on those lov...\n",
      "949996     1         Yeah, I'm sure that's the only explanation\n",
      "949997     1  Yes, let's use a courtroom that conforms in no...\n",
      "949998     1  No, only the government, military, and courts ...\n",
      "949999     1                 Only until they shoot a black man.\n",
      "\n",
      "[949999 rows x 2 columns]\n"
     ]
    }
   ],
   "source": [
    "print(data_sarcasm_train)"
   ]
  },
  {
   "cell_type": "code",
   "execution_count": 20,
   "metadata": {},
   "outputs": [],
   "source": [
    "data_sarcasm_train = data_sarcasm_train.rename(columns={'label': 'is_sarcastic','comment': 'text'})\n",
    "data_sarcasm_test = data_sarcasm_test.rename(columns={'label': 'is_sarcastic','comment': 'text'})"
   ]
  },
  {
   "cell_type": "code",
   "execution_count": 21,
   "metadata": {},
   "outputs": [],
   "source": [
    "data_sarcasm_train['is_sarcastic'] = data_sarcasm_train['is_sarcastic'].astype(int)"
   ]
  },
  {
   "cell_type": "code",
   "execution_count": 22,
   "metadata": {},
   "outputs": [
    {
     "data": {
      "text/html": [
       "<div>\n",
       "<style scoped>\n",
       "    .dataframe tbody tr th:only-of-type {\n",
       "        vertical-align: middle;\n",
       "    }\n",
       "\n",
       "    .dataframe tbody tr th {\n",
       "        vertical-align: top;\n",
       "    }\n",
       "\n",
       "    .dataframe thead th {\n",
       "        text-align: right;\n",
       "    }\n",
       "</style>\n",
       "<table border=\"1\" class=\"dataframe\">\n",
       "  <thead>\n",
       "    <tr style=\"text-align: right;\">\n",
       "      <th></th>\n",
       "      <th>is_sarcastic</th>\n",
       "      <th>text</th>\n",
       "    </tr>\n",
       "  </thead>\n",
       "  <tbody>\n",
       "    <tr>\n",
       "      <th>33</th>\n",
       "      <td>1</td>\n",
       "      <td>But they'll have all those reviews!</td>\n",
       "    </tr>\n",
       "    <tr>\n",
       "      <th>44</th>\n",
       "      <td>1</td>\n",
       "      <td>wow it is totally unreasonable to assume that ...</td>\n",
       "    </tr>\n",
       "    <tr>\n",
       "      <th>45</th>\n",
       "      <td>1</td>\n",
       "      <td>Ho ho ho... But Melania said that there is no ...</td>\n",
       "    </tr>\n",
       "    <tr>\n",
       "      <th>66</th>\n",
       "      <td>1</td>\n",
       "      <td>I can't wait until @potus starts a twitter war...</td>\n",
       "    </tr>\n",
       "    <tr>\n",
       "      <th>69</th>\n",
       "      <td>1</td>\n",
       "      <td>gotta love the teachers who give exams on the ...</td>\n",
       "    </tr>\n",
       "    <tr>\n",
       "      <th>...</th>\n",
       "      <td>...</td>\n",
       "      <td>...</td>\n",
       "    </tr>\n",
       "    <tr>\n",
       "      <th>949995</th>\n",
       "      <td>1</td>\n",
       "      <td>oh, how I loved making boot disks on those lov...</td>\n",
       "    </tr>\n",
       "    <tr>\n",
       "      <th>949996</th>\n",
       "      <td>1</td>\n",
       "      <td>Yeah, I'm sure that's the only explanation</td>\n",
       "    </tr>\n",
       "    <tr>\n",
       "      <th>949997</th>\n",
       "      <td>1</td>\n",
       "      <td>Yes, let's use a courtroom that conforms in no...</td>\n",
       "    </tr>\n",
       "    <tr>\n",
       "      <th>949998</th>\n",
       "      <td>1</td>\n",
       "      <td>No, only the government, military, and courts ...</td>\n",
       "    </tr>\n",
       "    <tr>\n",
       "      <th>949999</th>\n",
       "      <td>1</td>\n",
       "      <td>Only until they shoot a black man.</td>\n",
       "    </tr>\n",
       "  </tbody>\n",
       "</table>\n",
       "<p>471548 rows × 2 columns</p>\n",
       "</div>"
      ],
      "text/plain": [
       "        is_sarcastic                                               text\n",
       "33                 1                But they'll have all those reviews!\n",
       "44                 1  wow it is totally unreasonable to assume that ...\n",
       "45                 1  Ho ho ho... But Melania said that there is no ...\n",
       "66                 1  I can't wait until @potus starts a twitter war...\n",
       "69                 1  gotta love the teachers who give exams on the ...\n",
       "...              ...                                                ...\n",
       "949995             1  oh, how I loved making boot disks on those lov...\n",
       "949996             1         Yeah, I'm sure that's the only explanation\n",
       "949997             1  Yes, let's use a courtroom that conforms in no...\n",
       "949998             1  No, only the government, military, and courts ...\n",
       "949999             1                 Only until they shoot a black man.\n",
       "\n",
       "[471548 rows x 2 columns]"
      ]
     },
     "execution_count": 22,
     "metadata": {},
     "output_type": "execute_result"
    }
   ],
   "source": [
    "data_sarcasm_train[data_sarcasm_train[\"is_sarcastic\"] == 1] "
   ]
  },
  {
   "cell_type": "code",
   "execution_count": 23,
   "metadata": {
    "id": "QddqRgzAximv"
   },
   "outputs": [
    {
     "name": "stdout",
     "output_type": "stream",
     "text": [
      "is_sarcastic\n",
      "1    41919\n",
      "0    39489\n",
      "Name: count, dtype: int64\n",
      "is_sarcastic\n",
      "1    0.514925\n",
      "0    0.485075\n",
      "Name: proportion, dtype: float64\n"
     ]
    }
   ],
   "source": [
    "print(data_twitter_train['is_sarcastic'].value_counts())\n",
    "print(data_twitter_train['is_sarcastic'].value_counts(normalize=True))"
   ]
  },
  {
   "cell_type": "code",
   "execution_count": 24,
   "metadata": {
    "id": "ntTaXu_lxiwu"
   },
   "outputs": [
    {
     "name": "stdout",
     "output_type": "stream",
     "text": [
      "is_sarcastic\n",
      "1    4149\n",
      "0    3979\n",
      "Name: count, dtype: int64\n",
      "is_sarcastic\n",
      "1    0.510458\n",
      "0    0.489542\n",
      "Name: proportion, dtype: float64\n"
     ]
    }
   ],
   "source": [
    "print(data_twitter_test['is_sarcastic'].value_counts())\n",
    "print(data_twitter_test['is_sarcastic'].value_counts(normalize=True))"
   ]
  },
  {
   "cell_type": "code",
   "execution_count": 25,
   "metadata": {
    "id": "BLP_avnhH-l-"
   },
   "outputs": [
    {
     "name": "stdout",
     "output_type": "stream",
     "text": [
      "is_sarcastic\n",
      "0    14985\n",
      "1    11724\n",
      "Name: count, dtype: int64\n",
      "is_sarcastic\n",
      "0    0.561047\n",
      "1    0.438953\n",
      "Name: proportion, dtype: float64\n"
     ]
    }
   ],
   "source": [
    "print(data_head['is_sarcastic'].value_counts())\n",
    "print(data_head['is_sarcastic'].value_counts(normalize=True))"
   ]
  },
  {
   "cell_type": "code",
   "execution_count": 26,
   "metadata": {
    "id": "gidKieftH-uk"
   },
   "outputs": [
    {
     "name": "stdout",
     "output_type": "stream",
     "text": [
      "is_sarcastic\n",
      "0    14985\n",
      "1    13634\n",
      "Name: count, dtype: int64\n",
      "is_sarcastic\n",
      "0    0.523603\n",
      "1    0.476397\n",
      "Name: proportion, dtype: float64\n"
     ]
    }
   ],
   "source": [
    "print(data_headv2['is_sarcastic'].value_counts())\n",
    "print(data_headv2['is_sarcastic'].value_counts(normalize=True))"
   ]
  },
  {
   "cell_type": "code",
   "execution_count": 27,
   "metadata": {},
   "outputs": [
    {
     "name": "stdout",
     "output_type": "stream",
     "text": [
      "is_sarcastic\n",
      "0    478451\n",
      "1    471548\n",
      "Name: count, dtype: int64\n",
      "is_sarcastic\n",
      "0    0.503633\n",
      "1    0.496367\n",
      "Name: proportion, dtype: float64\n"
     ]
    }
   ],
   "source": [
    "print(data_sarcasm_train['is_sarcastic'].value_counts())\n",
    "print(data_sarcasm_train['is_sarcastic'].value_counts(normalize=True))"
   ]
  },
  {
   "cell_type": "code",
   "execution_count": 28,
   "metadata": {},
   "outputs": [
    {
     "name": "stdout",
     "output_type": "stream",
     "text": [
      "is_sarcastic\n",
      "1    33865\n",
      "0    26961\n",
      "Name: count, dtype: int64\n",
      "is_sarcastic\n",
      "1    0.556752\n",
      "0    0.443248\n",
      "Name: proportion, dtype: float64\n"
     ]
    }
   ],
   "source": [
    "print(data_sarcasm_test['is_sarcastic'].value_counts())\n",
    "print(data_sarcasm_test['is_sarcastic'].value_counts(normalize=True))"
   ]
  },
  {
   "cell_type": "code",
   "execution_count": 29,
   "metadata": {
    "id": "YsgVeeUjDbEA"
   },
   "outputs": [],
   "source": [
    "# Separar features (X) y etiquetas (y)\n",
    "# Concatenar correctamente las columnas \"text\"\n",
    "x = pd.concat([data_twitter_train[\"text\"],\n",
    "               data_twitter_test[\"text\"],\n",
    "               data_head[\"text\"],\n",
    "               data_headv2[\"text\"],\n",
    "              data_sarcasm_train['text'],\n",
    "              data_sarcasm_test['text']], ignore_index=True)\n",
    "\n",
    "# Concatenar correctamente las etiquetas \"is_sarcastic\"\n",
    "y = pd.concat([data_twitter_train[\"is_sarcastic\"],\n",
    "               data_twitter_test[\"is_sarcastic\"],\n",
    "               data_head[\"is_sarcastic\"],\n",
    "               data_headv2[\"is_sarcastic\"],\n",
    "              data_sarcasm_train['is_sarcastic'],\n",
    "              data_sarcasm_test['is_sarcastic']], ignore_index=True)"
   ]
  },
  {
   "cell_type": "code",
   "execution_count": 30,
   "metadata": {},
   "outputs": [],
   "source": [
    "x, y = shuffle(x, y, random_state=42)"
   ]
  },
  {
   "cell_type": "code",
   "execution_count": 31,
   "metadata": {
    "id": "CoK5GXbGFGSd"
   },
   "outputs": [
    {
     "name": "stdout",
     "output_type": "stream",
     "text": [
      "14132     1\n",
      "802313    1\n",
      "338450    1\n",
      "104149    0\n",
      "707711    0\n",
      "         ..\n",
      "110268    1\n",
      "259178    1\n",
      "131932    1\n",
      "671155    0\n",
      "121958    1\n",
      "Name: is_sarcastic, Length: 1155689, dtype: int64\n"
     ]
    }
   ],
   "source": [
    "print(y)"
   ]
  },
  {
   "cell_type": "code",
   "execution_count": 32,
   "metadata": {
    "id": "w6WX0enkF0G_"
   },
   "outputs": [
    {
     "name": "stdout",
     "output_type": "stream",
     "text": [
      "is_sarcastic\n",
      "0    578850\n",
      "1    576839\n",
      "Name: count, dtype: int64\n",
      "is_sarcastic\n",
      "0    0.50087\n",
      "1    0.49913\n",
      "Name: proportion, dtype: float64\n"
     ]
    }
   ],
   "source": [
    "print(y.value_counts())\n",
    "print(y.value_counts(normalize=True))"
   ]
  },
  {
   "cell_type": "code",
   "execution_count": 33,
   "metadata": {
    "id": "euCa8v7gPEgl"
   },
   "outputs": [],
   "source": [
    "def clean_text(text):\n",
    "\n",
    "    # Eliminar menciones (@usuario)\n",
    "    text = re.sub(r'@\\w+', '', text)\n",
    "\n",
    "    # Eliminar URLs\n",
    "    text = re.sub(r'https?://\\S+|www\\.\\S+|t\\.co/\\S+', '', text)\n",
    "\n",
    "    # Sustituir emojis por palabras\n",
    "    text = emoji.demojize(text)\n",
    "\n",
    "    # Eliminar caracteres especiales y números\n",
    "    text = re.sub(r'[^a-zA-Z\\s]', '', text)\n",
    "\n",
    "    text = re.sub(r'\\bhttps?\\b', '', text)\n",
    "\n",
    "    return text"
   ]
  },
  {
   "cell_type": "code",
   "execution_count": 34,
   "metadata": {
    "id": "7NBcxbq5Rdlm"
   },
   "outputs": [],
   "source": [
    "# Función para eliminar stopwords\n",
    "def remove_stopwords(text):\n",
    "    # Convertir a minúsculas\n",
    "    text = text.lower()\n",
    "    #changes contractions to extend form.- don't to do not\n",
    "    text = contractions.fix(text)\n",
    "    words = word_tokenize(text)  # Tokenizar\n",
    "    filtered_text = \" \".join([word for word in words if word.lower() not in stop_words])  # Filtrar stopwords\n",
    "    return filtered_text"
   ]
  },
  {
   "cell_type": "code",
   "execution_count": 35,
   "metadata": {
    "id": "9CvLGifnbU3N"
   },
   "outputs": [],
   "source": [
    "def remove_hashtags(text):\n",
    "    text = re.sub(r'#\\w+', '', text)  # Remueve hashtags completos\n",
    "    return re.sub(r'@\\w+', '', text)"
   ]
  },
  {
   "cell_type": "code",
   "execution_count": 36,
   "metadata": {
    "id": "5iV1fc9vPV8H"
   },
   "outputs": [
    {
     "data": {
      "text/plain": [
       "14132     @notAvantika lmao! in that case I'll prefix #S...\n",
       "802313    No you're wrong every champion should have the...\n",
       "338450    Given all the things Ruddock did to secure chi...\n",
       "104149    what if they held an anti-immigrant party and ...\n",
       "707711        Nothing like some PT to bring up the spirits.\n",
       "Name: text, dtype: object"
      ]
     },
     "execution_count": 36,
     "metadata": {},
     "output_type": "execute_result"
    }
   ],
   "source": [
    "x.head()"
   ]
  },
  {
   "cell_type": "code",
   "execution_count": 37,
   "metadata": {
    "id": "bNIPLUEwEL9N"
   },
   "outputs": [
    {
     "name": "stdout",
     "output_type": "stream",
     "text": [
      "Be aware  dirty step to get money  #staylight #staywhite  #sarcastic #moralneeded @… https://t.co/Oj6BdyX3WG\n"
     ]
    }
   ],
   "source": [
    "print(x[0])"
   ]
  },
  {
   "cell_type": "code",
   "execution_count": 38,
   "metadata": {
    "executionInfo": {
     "elapsed": 22531,
     "status": "ok",
     "timestamp": 1741049560835,
     "user": {
      "displayName": "memo teacher",
      "userId": "07240468935678651141"
     },
     "user_tz": 360
    },
    "id": "vcEiR_xSPnLx"
   },
   "outputs": [],
   "source": [
    "x = x.astype(str).apply(remove_hashtags)\n",
    "x = x.astype(str).apply(remove_stopwords)\n",
    "x = x.astype(str).apply(clean_text)"
   ]
  },
  {
   "cell_type": "code",
   "execution_count": 39,
   "metadata": {
    "colab": {
     "base_uri": "https://localhost:8080/",
     "height": 241
    },
    "executionInfo": {
     "elapsed": 27,
     "status": "ok",
     "timestamp": 1741049560874,
     "user": {
      "displayName": "memo teacher",
      "userId": "07240468935678651141"
     },
     "user_tz": 360
    },
    "id": "etYQ2SvhaoHS",
    "outputId": "7657db18-924f-4a72-ad3f-20a1af0b6c3a"
   },
   "outputs": [
    {
     "data": {
      "text/plain": [
       "14132                                     lmao  case prefix\n",
       "802313    wrong every champion ability way one stronger ...\n",
       "338450    given things ruddock secure children s future ...\n",
       "104149                held antiimmigrant party nobody came \n",
       "707711                       nothing like pt bring spirits \n",
       "Name: text, dtype: object"
      ]
     },
     "execution_count": 39,
     "metadata": {},
     "output_type": "execute_result"
    }
   ],
   "source": [
    "x.head()"
   ]
  },
  {
   "cell_type": "code",
   "execution_count": 40,
   "metadata": {
    "colab": {
     "base_uri": "https://localhost:8080/"
    },
    "executionInfo": {
     "elapsed": 65,
     "status": "ok",
     "timestamp": 1741049560958,
     "user": {
      "displayName": "memo teacher",
      "userId": "07240468935678651141"
     },
     "user_tz": 360
    },
    "id": "0tvN0IteGU_M",
    "outputId": "f2476ad4-f391-42b7-825a-2b7da866398e"
   },
   "outputs": [
    {
     "name": "stdout",
     "output_type": "stream",
     "text": [
      "Distribución de Clases:\n",
      "Training:\n",
      " is_sarcastic\n",
      "0    0.50087\n",
      "1    0.49913\n",
      "Name: proportion, dtype: float64\n",
      "Validation:\n",
      " is_sarcastic\n",
      "0    0.50087\n",
      "1    0.49913\n",
      "Name: proportion, dtype: float64\n",
      "Testing:\n",
      " is_sarcastic\n",
      "0    0.50087\n",
      "1    0.49913\n",
      "Name: proportion, dtype: float64\n",
      "Training:\n",
      " is_sarcastic\n",
      "0    463080\n",
      "1    461471\n",
      "Name: count, dtype: int64\n",
      "Validation:\n",
      " is_sarcastic\n",
      "0    57885\n",
      "1    57684\n",
      "Name: count, dtype: int64\n",
      "Testing:\n",
      " is_sarcastic\n",
      "0    57885\n",
      "1    57684\n",
      "Name: count, dtype: int64\n"
     ]
    }
   ],
   "source": [
    "# Paso 1: Dividir en 80% training y 20% testing (mismo balance de clases en cada conjunto)\n",
    "x_train, x_test, y_train, y_test = train_test_split(\n",
    "    x, y, test_size=0.20, random_state=42, stratify=y  # 🔥 Estratificación aquí\n",
    ")\n",
    "\n",
    "# Paso 2: Dividir el training en 80% training y 20% validation (para obtener 80-10-10 total)\n",
    "x_test, x_val, y_test, y_val = train_test_split(\n",
    "    x_test, y_test, test_size=0.5, random_state=42, stratify=y_test  # 🔥 Estratificación aquí\n",
    ")\n",
    "\n",
    "# Verificar proporciones de clases en cada conjunto\n",
    "print(\"Distribución de Clases:\")\n",
    "print(\"Training:\\n\", y_train.value_counts(normalize=True))\n",
    "print(\"Validation:\\n\", y_val.value_counts(normalize=True))\n",
    "print(\"Testing:\\n\", y_test.value_counts(normalize=True))\n",
    "print(\"Training:\\n\", y_train.value_counts())\n",
    "print(\"Validation:\\n\", y_val.value_counts())\n",
    "print(\"Testing:\\n\", y_test.value_counts())"
   ]
  },
  {
   "cell_type": "code",
   "execution_count": 41,
   "metadata": {},
   "outputs": [],
   "source": [
    "embedding_dim = 300  # Dimensión de los embeddings GloVe\n",
    "vocab_size = 30000  # Número máximo de palabras en el vocabulario\n",
    "\n",
    "# Crear una matriz de embeddings con ceros iniciales\n",
    "embedding_matrix = np.zeros((vocab_size, embedding_dim))\n",
    "\n",
    "# Tokenización\n",
    "\n",
    "tokenizer = Tokenizer(num_words=vocab_size, oov_token=\"<OOV>\")  # Token desconocido para palabras desconocidas\n",
    "tokenizer.fit_on_texts(x_train)  # Aprende el vocabulario\n",
    "\n",
    "# Convertir texto a secuencias numéricas\n",
    "X_train_seq = tokenizer.texts_to_sequences(x_train)\n",
    "X_val_seq = tokenizer.texts_to_sequences(x_val)\n",
    "X_test_seq = tokenizer.texts_to_sequences(x_test)\n",
    "\n",
    "# Definir longitud máxima basada en el percentil 98\n",
    "max_length = int(np.percentile([len(seq) for seq in X_train_seq], 98))  # Longitud máxima óptima para representar el 95% de las palabras\n",
    "\n",
    "# Aplicar *padding* para normalizar las secuencias\n",
    "#Se usa pad_sequences() para hacer que todas las secuencias tengan la misma longitud.\n",
    "#maxlen=max_length: Todas las secuencias tendrán la longitud definida anteriormente.\n",
    "#padding='post': Los ceros se agregan al final de la secuencia.\n",
    "#truncating='post': Si una oración es demasiado larga, se recorta al final.\n",
    "X_train_padded = pad_sequences(X_train_seq, maxlen=max_length, padding='post', truncating='post')\n",
    "X_val_padded = pad_sequences(X_val_seq, maxlen=max_length, padding='post', truncating='post')\n",
    "X_test_padded = pad_sequences(X_test_seq, maxlen=max_length, padding='post', truncating='post')\n",
    "\n",
    "\n",
    "\n",
    "# Llenar la matriz con los vectores de GloVe\n",
    "for word, i in tokenizer.word_index.items():\n",
    "    if i < vocab_size:\n",
    "        try:\n",
    "            embedding_matrix[i] = word_vectors[word]\n",
    "        except KeyError:\n",
    "            continue  # Si la palabra no está en GloVe, se mantiene en ceros\n"
   ]
  },
  {
   "cell_type": "code",
   "execution_count": 83,
   "metadata": {
    "colab": {
     "background_save": true
    },
    "executionInfo": {
     "elapsed": 3,
     "status": "ok",
     "timestamp": 1740957926191,
     "user": {
      "displayName": "memo teacher",
      "userId": "07240468935678651141"
     },
     "user_tz": 360
    },
    "id": "P-FNID89LVAU"
   },
   "outputs": [
    {
     "name": "stdout",
     "output_type": "stream",
     "text": [
      "Epoch 1/20\n"
     ]
    },
    {
     "name": "stderr",
     "output_type": "stream",
     "text": [
      "C:\\Users\\memo_\\anaconda3\\Lib\\site-packages\\keras\\src\\layers\\core\\embedding.py:90: UserWarning: Argument `input_length` is deprecated. Just remove it.\n",
      "  warnings.warn(\n"
     ]
    },
    {
     "name": "stdout",
     "output_type": "stream",
     "text": [
      "\u001b[1m28893/28893\u001b[0m \u001b[32m━━━━━━━━━━━━━━━━━━━━\u001b[0m\u001b[37m\u001b[0m \u001b[1m564s\u001b[0m 19ms/step - accuracy: 0.6364 - loss: 0.6371 - val_accuracy: 0.6766 - val_loss: 0.5956 - learning_rate: 0.0010\n",
      "Epoch 2/20\n",
      "\u001b[1m28893/28893\u001b[0m \u001b[32m━━━━━━━━━━━━━━━━━━━━\u001b[0m\u001b[37m\u001b[0m \u001b[1m557s\u001b[0m 19ms/step - accuracy: 0.6880 - loss: 0.5878 - val_accuracy: 0.6834 - val_loss: 0.5878 - learning_rate: 0.0010\n",
      "Epoch 3/20\n",
      "\u001b[1m28893/28893\u001b[0m \u001b[32m━━━━━━━━━━━━━━━━━━━━\u001b[0m\u001b[37m\u001b[0m \u001b[1m563s\u001b[0m 19ms/step - accuracy: 0.7044 - loss: 0.5681 - val_accuracy: 0.6836 - val_loss: 0.5842 - learning_rate: 0.0010\n",
      "Epoch 4/20\n",
      "\u001b[1m28893/28893\u001b[0m \u001b[32m━━━━━━━━━━━━━━━━━━━━\u001b[0m\u001b[37m\u001b[0m \u001b[1m553s\u001b[0m 19ms/step - accuracy: 0.7164 - loss: 0.5530 - val_accuracy: 0.6848 - val_loss: 0.5929 - learning_rate: 0.0010\n",
      "Epoch 5/20\n",
      "\u001b[1m28893/28893\u001b[0m \u001b[32m━━━━━━━━━━━━━━━━━━━━\u001b[0m\u001b[37m\u001b[0m \u001b[1m535s\u001b[0m 19ms/step - accuracy: 0.7277 - loss: 0.5393 - val_accuracy: 0.6859 - val_loss: 0.5878 - learning_rate: 0.0010\n",
      "Epoch 6/20\n",
      "\u001b[1m28893/28893\u001b[0m \u001b[32m━━━━━━━━━━━━━━━━━━━━\u001b[0m\u001b[37m\u001b[0m \u001b[1m545s\u001b[0m 19ms/step - accuracy: 0.7379 - loss: 0.5260 - val_accuracy: 0.6847 - val_loss: 0.5994 - learning_rate: 0.0010\n",
      "Epoch 7/20\n",
      "\u001b[1m28893/28893\u001b[0m \u001b[32m━━━━━━━━━━━━━━━━━━━━\u001b[0m\u001b[37m\u001b[0m \u001b[1m540s\u001b[0m 19ms/step - accuracy: 0.7452 - loss: 0.5155 - val_accuracy: 0.6834 - val_loss: 0.5951 - learning_rate: 0.0010\n",
      "Epoch 8/20\n",
      "\u001b[1m28893/28893\u001b[0m \u001b[32m━━━━━━━━━━━━━━━━━━━━\u001b[0m\u001b[37m\u001b[0m \u001b[1m546s\u001b[0m 19ms/step - accuracy: 0.7581 - loss: 0.4962 - val_accuracy: 0.6832 - val_loss: 0.6150 - learning_rate: 7.0000e-04\n",
      "Epoch 9/20\n",
      "\u001b[1m28893/28893\u001b[0m \u001b[32m━━━━━━━━━━━━━━━━━━━━\u001b[0m\u001b[37m\u001b[0m \u001b[1m549s\u001b[0m 19ms/step - accuracy: 0.7698 - loss: 0.4774 - val_accuracy: 0.6808 - val_loss: 0.6332 - learning_rate: 7.0000e-04\n",
      "Epoch 10/20\n",
      "\u001b[1m28893/28893\u001b[0m \u001b[32m━━━━━━━━━━━━━━━━━━━━\u001b[0m\u001b[37m\u001b[0m \u001b[1m559s\u001b[0m 19ms/step - accuracy: 0.7759 - loss: 0.4672 - val_accuracy: 0.6793 - val_loss: 0.6322 - learning_rate: 7.0000e-04\n",
      "Epoch 11/20\n",
      "\u001b[1m28893/28893\u001b[0m \u001b[32m━━━━━━━━━━━━━━━━━━━━\u001b[0m\u001b[37m\u001b[0m \u001b[1m562s\u001b[0m 19ms/step - accuracy: 0.7816 - loss: 0.4573 - val_accuracy: 0.6793 - val_loss: 0.6300 - learning_rate: 7.0000e-04\n",
      "Epoch 12/20\n",
      "\u001b[1m28893/28893\u001b[0m \u001b[32m━━━━━━━━━━━━━━━━━━━━\u001b[0m\u001b[37m\u001b[0m \u001b[1m562s\u001b[0m 19ms/step - accuracy: 0.7915 - loss: 0.4392 - val_accuracy: 0.6772 - val_loss: 0.6800 - learning_rate: 4.9000e-04\n",
      "Epoch 13/20\n",
      "\u001b[1m28893/28893\u001b[0m \u001b[32m━━━━━━━━━━━━━━━━━━━━\u001b[0m\u001b[37m\u001b[0m \u001b[1m568s\u001b[0m 20ms/step - accuracy: 0.7994 - loss: 0.4245 - val_accuracy: 0.6781 - val_loss: 0.6774 - learning_rate: 4.9000e-04\n",
      "\u001b[1m3612/3612\u001b[0m \u001b[32m━━━━━━━━━━━━━━━━━━━━\u001b[0m\u001b[37m\u001b[0m \u001b[1m26s\u001b[0m 7ms/step - accuracy: 0.6857 - loss: 0.5841\n",
      "\n",
      "Test Accuracy: 0.6850\n",
      "Test Loss: 0.5849\n",
      "\u001b[1m3612/3612\u001b[0m \u001b[32m━━━━━━━━━━━━━━━━━━━━\u001b[0m\u001b[37m\u001b[0m \u001b[1m25s\u001b[0m 7ms/step\n"
     ]
    },
    {
     "data": {
      "image/png": "[encoded data removed]",
      "text/plain": [
       "<Figure size 600x400 with 2 Axes>"
      ]
     },
     "metadata": {},
     "output_type": "display_data"
    },
    {
     "name": "stdout",
     "output_type": "stream",
     "text": [
      "\n",
      "Reporte de Clasificación:\n",
      "              precision    recall  f1-score   support\n",
      "\n",
      "           0     0.6859    0.6845    0.6852     57885\n",
      "           1     0.6840    0.6855    0.6848     57684\n",
      "\n",
      "    accuracy                         0.6850    115569\n",
      "   macro avg     0.6850    0.6850    0.6850    115569\n",
      "weighted avg     0.6850    0.6850    0.6850    115569\n",
      "\n"
     ]
    }
   ],
   "source": [
    "\n",
    "# Definir el modelo LSTM\n",
    "#model = Sequential([\n",
    "#    Embedding(input_dim=vocab_size, output_dim=300, input_length=max_length),  # Usa la misma max_length\n",
    "#    LSTM(128, return_sequences=True),\n",
    "#    Dropout(0.3),\n",
    "#    LSTM(64),\n",
    "#    Dense(32, activation='relu'),\n",
    "#    Dense(1, activation='sigmoid')\n",
    "#])\n",
    "\n",
    "reduce_lr = ReduceLROnPlateau(monitor='val_loss', factor=0.7, patience=4, min_lr=0.0001)\n",
    "\n",
    "early_stopping = EarlyStopping(monitor='val_loss', patience=10, restore_best_weights=True)\n",
    "\n",
    "\n",
    "model = Sequential()\n",
    "model.add(Embedding(input_dim=vocab_size, output_dim=embedding_dim, input_length=max_length,\n",
    "                   weights=[embedding_matrix], trainable=False))\n",
    "# Capa Conv1D para extracción de características\n",
    "#model.add(Conv1D(64, kernel_size=5, activation='relu'))\n",
    "#model.add(MaxPooling1D(pool_size=2))\n",
    "\n",
    "model.add(Bidirectional(LSTM(120, return_sequences=True, kernel_initializer='glorot_uniform')))  # LSTM bidireccional\n",
    "model.add(Dropout(0.4))\n",
    "model.add(LSTM(120))  # Otra capa LSTM si es necesario\n",
    "model.add(Dropout(0.4))\n",
    "\n",
    "# Capa densa con regularización L2\n",
    "model.add(Dense(32, activation='relu', kernel_regularizer=l2(0.001)))\n",
    "model.add(Dropout(0.4))\n",
    "\n",
    "# Capa de salida\n",
    "model.add(Dense(1, activation='sigmoid'))\n",
    "\n",
    "# Compilar modelo\n",
    "model.compile(loss='binary_crossentropy', optimizer=Adam(learning_rate=0.001), metrics=['accuracy'])\n",
    "\n",
    "# Entrenar el modelo con datos de validación\n",
    "history = model.fit(\n",
    "    X_train_padded, y_train,\n",
    "    epochs=20,\n",
    "    batch_size=32,\n",
    "    validation_data=(X_val_padded, y_val),  # Ahora usa datos con *padding*\n",
    "    callbacks=[reduce_lr, early_stopping]\n",
    ")\n",
    "\n",
    "# Evaluar en el conjunto de prueba\n",
    "test_loss, test_acc = model.evaluate(X_test_padded, y_test)\n",
    "print(f\"\\nTest Accuracy: {test_acc:.4f}\")\n",
    "print(f\"Test Loss: {test_loss:.4f}\")\n",
    "\n",
    "# Predicciones en el conjunto de prueba\n",
    "y_pred = model.predict(X_test_padded)\n",
    "y_pred = (y_pred > 0.5).astype(\"int32\")\n",
    "\n",
    "# Matriz de confusión\n",
    "cm = confusion_matrix(y_test, y_pred)\n",
    "plt.figure(figsize=(6,4))\n",
    "sns.heatmap(cm, annot=True, fmt=\"d\", cmap=\"Blues\")\n",
    "plt.xlabel(\"Predicción\")\n",
    "plt.ylabel(\"Real\")\n",
    "plt.title(\"Matriz de Confusión\")\n",
    "plt.show()\n",
    "\n",
    "# Reporte de clasificación con métricas como F1-score, precisión y recall\n",
    "print(\"\\nReporte de Clasificación:\")\n",
    "print(classification_report(y_test, y_pred, digits=4))\n"
   ]
  },
  {
   "cell_type": "code",
   "execution_count": 85,
   "metadata": {
    "id": "6JIgokVlr5A7"
   },
   "outputs": [
    {
     "name": "stderr",
     "output_type": "stream",
     "text": [
      "WARNING:absl:You are saving your model as an HDF5 file via `model.save()` or `keras.saving.save_model(model)`. This file format is considered legacy. We recommend using instead the native Keras format, e.g. `model.save('my_model.keras')` or `keras.saving.save_model(model, 'my_model.keras')`. \n"
     ]
    }
   ],
   "source": [
    "from tensorflow.keras.models import load_model\n",
    "import pickle\n",
    "import json\n",
    "\n",
    "model.save(\"modelo_LSTM.h5\")  # Guarda todo en un archivo .h5\n",
    "\n",
    "# Guardar el tokenizer\n",
    "with open(\"tokenizer.pkl\", \"wb\") as f:\n",
    "    pickle.dump(tokenizer, f)\n",
    "\n",
    "config = {\"max_length\": max_length, \"vocab_size\": vocab_size, \"embedding_dim\": embedding_dim}\n",
    "\n",
    "with open(\"config.json\", \"w\") as f:\n",
    "    json.dump(config, f)"
   ]
  },
  {
   "cell_type": "code",
   "execution_count": 86,
   "metadata": {},
   "outputs": [
    {
     "name": "stderr",
     "output_type": "stream",
     "text": [
      "WARNING:absl:Compiled the loaded model, but the compiled metrics have yet to be built. `model.compile_metrics` will be empty until you train or evaluate the model.\n"
     ]
    },
    {
     "name": "stdout",
     "output_type": "stream",
     "text": [
      "\u001b[1m3612/3612\u001b[0m \u001b[32m━━━━━━━━━━━━━━━━━━━━\u001b[0m\u001b[37m\u001b[0m \u001b[1m23s\u001b[0m 6ms/step - accuracy: 0.6857 - loss: 0.5841\n",
      "\n",
      "Test Accuracy: 0.6850\n",
      "Test Loss: 0.5849\n"
     ]
    }
   ],
   "source": [
    "model = load_model(\"modelo_LSTM.h5\")\n",
    "\n",
    "tokenizer = []\n",
    "# Cargar el tokenizer\n",
    "with open(\"tokenizer.pkl\", \"rb\") as f:\n",
    "    tokenizer = pickle.load(f)\n",
    "\n",
    "config = []\n",
    "with open(\"config.json\", \"r\") as f:\n",
    "    config = json.load(f)\n",
    "\n",
    "max_length = config[\"max_length\"]\n",
    "vocab_size = config[\"vocab_size\"]\n",
    "embedding_dim = config[\"embedding_dim\"]\n",
    "\n",
    "# Evaluar en el conjunto de prueba\n",
    "test_loss, test_acc = model.evaluate(X_test_padded, y_test)\n",
    "print(f\"\\nTest Accuracy: {test_acc:.4f}\")\n",
    "print(f\"Test Loss: {test_loss:.4f}\")\n"
   ]
  },
  {
   "cell_type": "code",
   "execution_count": null,
   "metadata": {},
   "outputs": [],
   "source": []
  }
 ],
 "metadata": {
  "colab": {
   "authorship_tag": "ABX9TyMAvEQj8D5m4o0YHIpqUuCj",
   "name": "",
   "version": ""
  },
  "kernelspec": {
   "display_name": "Python 3 (ipykernel)",
   "language": "python",
   "name": "python3"
  },
  "language_info": {
   "codemirror_mode": {
    "name": "ipython",
    "version": 3
   },
   "file_extension": ".py",
   "mimetype": "text/x-python",
   "name": "python",
   "nbconvert_exporter": "python",
   "pygments_lexer": "ipython3",
   "version": "3.12.7"
  }
 },
 "nbformat": 4,
 "nbformat_minor": 4
}
